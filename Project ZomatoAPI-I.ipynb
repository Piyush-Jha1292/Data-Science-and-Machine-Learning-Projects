{
 "cells": [
  {
   "cell_type": "markdown",
   "id": "d06f6609",
   "metadata": {},
   "source": [
    "### Zomato Cuisine 1.1"
   ]
  },
  {
   "cell_type": "code",
   "execution_count": 25,
   "id": "ee5551f2",
   "metadata": {},
   "outputs": [
    {
     "name": "stdout",
     "output_type": "stream",
     "text": [
      "73\n"
     ]
    }
   ],
   "source": [
    "import requests\n",
    "\n",
    "header = {'user-key': '6eacc55f385ade30c93e9d0259691e14'}\n",
    "data = {'city_id':1}\n",
    "response = requests.get('https://developers.zomato.com/api/v2.1/cuisines',headers=header,params=data)\n",
    "\n",
    "data = response.json()\n",
    "\n",
    "for i in data['cuisines']:\n",
    "    if i['cuisine']['cuisine_name']=='Mexican':\n",
    "        print(i['cuisine']['cuisine_id'])"
   ]
  },
  {
   "cell_type": "markdown",
   "id": "dc4cdba6",
   "metadata": {},
   "source": [
    "### Zomato Cuisine 1.3"
   ]
  },
  {
   "cell_type": "code",
   "execution_count": 26,
   "id": "229084d8",
   "metadata": {},
   "outputs": [
    {
     "name": "stdout",
     "output_type": "stream",
     "text": [
      "subzone 104\n"
     ]
    }
   ],
   "source": [
    "import requests\n",
    "\n",
    "header = {'user-key': '6eacc55f385ade30c93e9d0259691e14'}\n",
    "data = {'query':'Connaught Place'}\n",
    "response = requests.get('https://developers.zomato.com/api/v2.1/locations',headers=header,params=data)\n",
    "\n",
    "data = response.json()\n",
    "#data\n",
    "for i in data['location_suggestions']:\n",
    "    print(i['entity_type'],i['entity_id'])"
   ]
  },
  {
   "cell_type": "markdown",
   "id": "b8c6be68",
   "metadata": {},
   "source": [
    "### Zomato Cuisine 1.4"
   ]
  },
  {
   "cell_type": "code",
   "execution_count": 27,
   "id": "7486ea8d",
   "metadata": {},
   "outputs": [
    {
     "name": "stdout",
     "output_type": "stream",
     "text": [
      "Station Bar 4.4 18851371\n",
      "Chili's Grill & Bar 4.4 18537536\n",
      "Ministry Of Beer 4.3 18418277\n",
      "Master Of Malts 4.3 18391149\n",
      "Lord Of The Drinks 4.3 312603\n",
      "38 Barracks 4.3 18241537\n",
      "Xero Degrees 4.2 18729557\n",
      "Local 4.2 18382360\n",
      "Openhouse Cafe 4.2 312601\n",
      "Warehouse Cafe 4.2 301605\n"
     ]
    }
   ],
   "source": [
    "import requests\n",
    "\n",
    "basicAPI = 'https://developers.zomato.com/api/v2.1'\n",
    "header = {'user-key': '6eacc55f385ade30c93e9d0259691e14'}\n",
    "params = {'entity_id': 104, 'entity_type':'subzone','sort':'rating','cuisines': 73, 'count':10}\n",
    "response = requests.get(basicAPI+'/search', headers = header, params = params)\n",
    "for i in response.json().get('restaurants'):\n",
    "    print(i.get('restaurant').get('name'),i.get('restaurant').get('user_rating').get('aggregate_rating'),\n",
    "         i.get('restaurant').get('R').get('res_id'))"
   ]
  },
  {
   "cell_type": "markdown",
   "id": "4422ab9d",
   "metadata": {},
   "source": [
    "### Zomato Cuisine 1.5 "
   ]
  },
  {
   "cell_type": "code",
   "execution_count": 28,
   "id": "add40b39",
   "metadata": {},
   "outputs": [
    {
     "name": "stdout",
     "output_type": "stream",
     "text": [
      "6\n"
     ]
    }
   ],
   "source": [
    "import requests\n",
    "\n",
    "header = {'user-key': '6eacc55f385ade30c93e9d0259691e14'}\n",
    "response = requests.get('https://developers.zomato.com/api/v2.1/categories',headers=header)\n",
    "\n",
    "data = response.json()\n",
    "data = data['categories']\n",
    "\n",
    "for i in data:\n",
    "    if i['categories']['name']=='Cafes':\n",
    "        print(i['categories']['id'])"
   ]
  },
  {
   "cell_type": "markdown",
   "id": "e73f921b",
   "metadata": {},
   "source": [
    "### Zomato Cuisine 1.6 "
   ]
  },
  {
   "cell_type": "code",
   "execution_count": 30,
   "id": "7afe7a4a",
   "metadata": {
    "scrolled": true
   },
   "outputs": [
    {
     "name": "stdout",
     "output_type": "stream",
     "text": [
      "Xero Degrees 4.2 18729557\n",
      "Chaayos Chai+Snacks=Relax 4.1 18237315\n",
      "The Chai Story 3.9 18445782\n",
      "Cafe Coffee Day - The Square 3.8 303034\n",
      "Bakeburry 3.3 20072414\n",
      "Krishna Cafe 3.2 301191\n"
     ]
    }
   ],
   "source": [
    "import requests\n",
    "\n",
    "header = {'user-key': '6eacc55f385ade30c93e9d0259691e14'}\n",
    "data = {'entity_id':104 , 'entity_type':'subzone', 'cuisines':73, 'category':6 , 'sort':'rating'}\n",
    "response = requests.get('https://developers.zomato.com/api/v2.1/search',headers=header,params=data)\n",
    "\n",
    "data = response.json()\n",
    "data = data['restaurants']\n",
    "\n",
    "for i in data:\n",
    "    print(i['restaurant']['name'],i['restaurant']['user_rating']['aggregate_rating'],i['restaurant']['R']['res_id'])"
   ]
  },
  {
   "cell_type": "markdown",
   "id": "a9b7c26f",
   "metadata": {},
   "source": [
    "### Zomato Cuisine 1.7 "
   ]
  },
  {
   "cell_type": "code",
   "execution_count": null,
   "id": "e8b67d82",
   "metadata": {},
   "outputs": [],
   "source": [
    "import requests\n",
    "\n",
    "header = {'user-key': '6eacc55f385ade30c93e9d0259691e14'}\n",
    "data = {'res_id': 18729557}\n",
    "response = requests.get('https://developers.zomato.com/api/v2.1/reviews',headers=header,params=data)\n",
    "\n",
    "data = response.json()\n",
    "for i in data['user_reviews']:\n",
    "    print(i['review']['user']['name'],i['review']['rating'],i['review']['review_text'])"
   ]
  },
  {
   "cell_type": "markdown",
   "id": "664077ee",
   "metadata": {},
   "source": [
    "### Zomato Restaurant 2.2"
   ]
  },
  {
   "cell_type": "code",
   "execution_count": null,
   "id": "4ee8649e",
   "metadata": {},
   "outputs": [],
   "source": [
    "import requests\n",
    "header = {'user-key':'6eacc55f385ade30c93e9d0259691e14'}\n",
    "data = {'entity_id':1,'entity_type':'city','q':'PA PA YA'}\n",
    "response = requests.get('https://developers.zomato.com/api/v2.1/search',headers=header,params=data)\n",
    "\n",
    "data = response.json()\n",
    "data = data['restaurants']\n",
    "\n",
    "res_id = data[0]['restaurant']['R']['res_id']\n",
    "\n",
    "data = {'res_id':res_id}\n",
    "response = requests.get('https://developers.zomato.com/api/v2.1/restaurant',headers=header,params=data)\n",
    "\n",
    "data = response.json()\n",
    "print(data['user_rating']['aggregate_rating'])\n",
    "print(data['average_cost_for_two'])\n",
    "print(data['cuisines'])\n",
    "print(data['location']['address'])"
   ]
  },
  {
   "cell_type": "markdown",
   "id": "56292b35",
   "metadata": {},
   "source": [
    "### Zomato Restaurant 2.3"
   ]
  },
  {
   "cell_type": "code",
   "execution_count": null,
   "id": "61e6713b",
   "metadata": {},
   "outputs": [],
   "source": [
    "import requests\n",
    "header = {'user-key':'6eacc55f385ade30c93e9d0259691e14'}\n",
    "data = {'res_id':18429148}\n",
    "response = requests.get('https://developers.zomato.com/api/v2.1/restaurant',headers=header,params=data)\n",
    "\n",
    "data = response.json()\n",
    "\n",
    "if data['is_table_reservation_supported']:\n",
    "    print('yes')\n",
    "else:\n",
    "    print('no')"
   ]
  },
  {
   "cell_type": "markdown",
   "id": "2d094f7b",
   "metadata": {},
   "source": [
    "### Zomato Restaurant 2.4 "
   ]
  },
  {
   "cell_type": "code",
   "execution_count": null,
   "id": "0b900df8",
   "metadata": {},
   "outputs": [],
   "source": [
    "import requests\n",
    "\n",
    "header = {'user-key': '6eacc55f385ade30c93e9d0259691e14'}\n",
    "data = {'res_id':18429148,'count':5}\n",
    "response = requests.get('https://developers.zomato.com/api/v2.1/reviews',headers=header,params=data)\n",
    "\n",
    "data = response.json()\n",
    "#data\n",
    "for i in data['user_reviews']:\n",
    "    print(i['review']['user']['name'],i['review']['rating'],i['review']['review_text'])"
   ]
  },
  {
   "cell_type": "markdown",
   "id": "6911e5f7",
   "metadata": {},
   "source": [
    "### Zomato distance 3.1 "
   ]
  },
  {
   "cell_type": "code",
   "execution_count": null,
   "id": "31b5bb88",
   "metadata": {},
   "outputs": [],
   "source": [
    "import requests\n",
    "\n",
    "header = {'user-key': '6eacc55f385ade30c93e9d0259691e14'}\n",
    "data = {'city_id':1}\n",
    "response = requests.get('https://developers.zomato.com/api/v2.1/cuisines',headers=header,params=data)\n",
    "\n",
    "data = response.json()\n",
    "\n",
    "for i in data['cuisines']:\n",
    "    if i['cuisine']['cuisine_name']=='BBQ':\n",
    "        print(i['cuisine']['cuisine_id'])"
   ]
  },
  {
   "cell_type": "markdown",
   "id": "adb9b466",
   "metadata": {},
   "source": [
    "### Zomato distance 3.2"
   ]
  },
  {
   "cell_type": "code",
   "execution_count": null,
   "id": "d8e811d3",
   "metadata": {},
   "outputs": [],
   "source": [
    "import requests\n",
    "\n",
    "header = {'user-key': '6eacc55f385ade30c93e9d0259691e14'}\n",
    "data = {'city_id':1}\n",
    "response = requests.get('https://developers.zomato.com/api/v2.1/cuisines',headers=header,params=data)\n",
    "\n",
    "data = response.json()\n",
    "\n",
    "for i in data['cuisines']:\n",
    "    if i['cuisine']['cuisine_name']=='BBQ':\n",
    "        print(i['cuisine']['cuisine_id'])"
   ]
  },
  {
   "cell_type": "markdown",
   "id": "4bcb00eb",
   "metadata": {},
   "source": [
    "###  Zomato distance 3.3"
   ]
  },
  {
   "cell_type": "code",
   "execution_count": null,
   "id": "bd8f6aae",
   "metadata": {},
   "outputs": [],
   "source": [
    "import requests\n",
    "\n",
    "header = {'user-key': '6eacc55f385ade30c93e9d0259691e14'}\n",
    "data = {'res_id':18204820,'count':5}\n",
    "response = requests.get('https://developers.zomato.com/api/v2.1/reviews',headers=header,params=data)\n",
    "\n",
    "data = response.json()\n",
    "#data\n",
    "for i in data['user_reviews']:\n",
    "    print(i['review']['user']['name'],i['review']['rating'],i['review']['review_text'])"
   ]
  },
  {
   "cell_type": "markdown",
   "id": "5706fa1b",
   "metadata": {},
   "source": [
    "### Zomato distance 3.4"
   ]
  },
  {
   "cell_type": "code",
   "execution_count": null,
   "id": "dee1bf2f",
   "metadata": {},
   "outputs": [],
   "source": [
    "import requests\n",
    "\n",
    "header = {'user-key': '6eacc55f385ade30c93e9d0259691e14'}\n",
    "data = {'lat':28.697673,'lon':77.140628,'radius':4000,'count':10,'sort':'rating','order':'dsc'}\n",
    "response = requests.get('https://developers.zomato.com/api/v2.1/search',headers=header,params=data)\n",
    "\n",
    "data = response.json()\n",
    "for i in data['restaurants']:\n",
    "       print(i['restaurant']['name'],i['restaurant']['user_rating']['aggregate_rating'],i['restaurant']['id'],i['restaurant']['location']['locality'])"
   ]
  }
 ],
 "metadata": {
  "kernelspec": {
   "display_name": "Python 3 (ipykernel)",
   "language": "python",
   "name": "python3"
  },
  "language_info": {
   "codemirror_mode": {
    "name": "ipython",
    "version": 3
   },
   "file_extension": ".py",
   "mimetype": "text/x-python",
   "name": "python",
   "nbconvert_exporter": "python",
   "pygments_lexer": "ipython3",
   "version": "3.10.6"
  }
 },
 "nbformat": 4,
 "nbformat_minor": 5
}
