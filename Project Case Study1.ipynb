{
 "cells": [
  {
   "cell_type": "markdown",
   "id": "3469d24f",
   "metadata": {},
   "source": [
    "### Number of Fundings "
   ]
  },
  {
   "cell_type": "code",
   "execution_count": null,
   "id": "92dce789",
   "metadata": {},
   "outputs": [],
   "source": [
    "import csv\n",
    "import matplotlib.pyplot as plt\n",
    "\n",
    "import collections\n",
    "with open('startup_funding.csv', encoding ='UTF-8') as file_obj:\n",
    "    file_data = csv.DictReader(file_obj, skipinitialspace=True)\n",
    "\n",
    "    dct = {}\n",
    "    for row in file_data:\n",
    "        year = row['Date'][-4:]\n",
    "        if year in dct:\n",
    "            dct[year] += 1\n",
    "        else:\n",
    "            dct[year] = 1\n",
    "            \n",
    "    ord_dct = collections.OrderedDict(sorted(dct.items()))                                  \n",
    "    plt.plot(list(ord_dct.keys()),list(ord_dct.values()))\n",
    "    plt.xlabel(\"Year\")\n",
    "    plt.ylabel(\"Number of Fundings\")\n",
    "    plt.title('Year VS \"Number of Fundings\"')\n",
    "    plt.show()\n",
    "    \n",
    "    for i in ord_dct.keys():\n",
    "        print(i,end=\" \")\n",
    "        print(ord_dct[i])"
   ]
  },
  {
   "cell_type": "markdown",
   "id": "3533d267",
   "metadata": {},
   "source": [
    "### Top Indian Cities "
   ]
  },
  {
   "cell_type": "code",
   "execution_count": null,
   "id": "e5428ee0",
   "metadata": {},
   "outputs": [],
   "source": [
    "import pandas as pd\n",
    "import numpy as np\n",
    "import matplotlib.pyplot as plt\n",
    "%matplotlib inline\n",
    "\n",
    "\n",
    "df = pd.read_csv('startup_funding.csv',encoding = 'utf-8')\n",
    "#df['CityLocation'].dropna(inplace=True)\n",
    "df.dropna(subset=[\"CityLocation\"],inplace=True)\n",
    "#df.tail()\n",
    "def separateCity(city): \n",
    "    return city.split('/')[0].strip() \n",
    "df['CityLocation']=df['CityLocation'].apply(separateCity) \n",
    "df[df['CityLocation']=='bangalore'] = 'Bangalore'\n",
    "df[df['CityLocation']=='Delhi'] = 'New Delhi'\n",
    "\n",
    "city = df['CityLocation']\n",
    "city = city.value_counts()[:10]\n",
    "city_name = city.index\n",
    "no_of_str = city.values\n",
    "\n",
    "plt.pie(no_of_str, labels=city_name, autopct='%.2f%%',counterclock=False)\n",
    "plt.title('Number of startup in city')\n",
    "plt.axis(\"equal\")\n",
    "plt.show()\n",
    "\n",
    "for i in range(city_name.shape[0]):\n",
    "    print(city_name[i],no_of_str[i])"
   ]
  },
  {
   "cell_type": "markdown",
   "id": "dbd2ee84",
   "metadata": {},
   "source": [
    "### Funding amount"
   ]
  },
  {
   "cell_type": "code",
   "execution_count": null,
   "id": "c01fa303",
   "metadata": {},
   "outputs": [],
   "source": [
    "import pandas as pd\n",
    "import numpy as np\n",
    "import matplotlib.pyplot as plt\n",
    "\n",
    "\n",
    "\n",
    "df = pd.read_csv('startup_funding.csv',encoding = 'utf-8')\n",
    "df.dropna(subset=[\"CityLocation\"],inplace=True)\n",
    "def separateCity(city):\n",
    "    return city.split('/')[0].strip()\n",
    "df['CityLocation'] = df['CityLocation'].apply(separateCity)\n",
    "df['CityLocation'].replace(\"Delhi\",\"New Delhi\",inplace = True)\n",
    "df['CityLocation'].replace(\"bangalore\",\"Bangalore\",inplace = True)\n",
    "\n",
    "df['AmountInUSD'] = df['AmountInUSD'].apply(lambda x: float(str(x).replace(\",\",\"\")))\n",
    "df = df.groupby('CityLocation')['AmountInUSD'].sum()\n",
    "df = df.sort_values(ascending = False)[0:10]\n",
    "city = df.index\n",
    "amount = df.values\n",
    "explode = [0.2,0.2,0.2,0.2,0.1,0.1,0.2,0.2,0.2,0.2]\n",
    "plt.pie(amount,labels = city,autopct='%0.2f',counterclock=False,startangle=90,explode =explode,radius=1.5)\n",
    "plt.show()\n",
    "\n",
    "percent = np.true_divide(amount,amount.sum())*100\n",
    "for i in range(len(city)):\n",
    "    print(city[i],format(percent[i],'0.2f'))"
   ]
  },
  {
   "cell_type": "markdown",
   "id": "15eb34d6",
   "metadata": {},
   "source": [
    "### Investment Type"
   ]
  },
  {
   "cell_type": "code",
   "execution_count": null,
   "id": "36d63c69",
   "metadata": {},
   "outputs": [],
   "source": [
    "import numpy as np\n",
    "import pandas as pd\n",
    "import matplotlib.pyplot as plt\n",
    "\n",
    "\n",
    "df = pd.read_csv('startup_funding.csv',encoding = 'utf-8')\n",
    "df['InvestmentType'].replace('SeedFunding','Seed Funding',inplace = True)\n",
    "df['InvestmentType'].replace('PrivateEquity','Private Equity',inplace = True)\n",
    "df['InvestmentType'].replace('DebtFunding','Debt Funding',inplace = True)\n",
    "df['InvestmentType'].replace('Crowd funding','Crowd Funding',inplace = True)\n",
    "df['AmountInUSD'] = df['AmountInUSD'].apply(lambda x: float(str(x).replace(\",\",\"\")))\n",
    "\n",
    "df = df.groupby('InvestmentType')['AmountInUSD'].sum()\n",
    "df = df.sort_values(ascending = False)[:10]\n",
    "investment = df.index\n",
    "amount = df.values\n",
    "\n",
    "plt.pie(amount,labels = investment,autopct='%0.2f',counterclock=False,startangle=110)\n",
    "plt.show()\n",
    "\n",
    "percent = np.true_divide(amount,amount.sum())*100\n",
    "for i in range(len(investment)):\n",
    "    print(investment[i],format(percent[i],'0.2f'))"
   ]
  },
  {
   "cell_type": "markdown",
   "id": "e5fa723d",
   "metadata": {},
   "source": [
    "### Top Industries "
   ]
  },
  {
   "cell_type": "code",
   "execution_count": null,
   "id": "18d418b5",
   "metadata": {},
   "outputs": [],
   "source": [
    "import pandas as pd\n",
    "import numpy as np\n",
    "import matplotlib.pyplot as plt\n",
    "\n",
    "df = pd.read_csv('startup_funding.csv',encoding = 'utf-8')\n",
    "df['IndustryVertical'].replace('ECommerce','Ecommerce',inplace = True)\n",
    "df['IndustryVertical'].replace('eCommerce','Ecommerce',inplace = True)\n",
    "df['IndustryVertical'].replace('ecommerce','Ecommerce',inplace = True)\n",
    "df['AmountInUSD'] = df['AmountInUSD'].apply(lambda x: float(str(x).replace(\",\",\"\")))\n",
    "df = df.groupby('IndustryVertical')['AmountInUSD'].sum()\n",
    "df = df.sort_values(ascending = False)[:5]\n",
    "industry = df.index\n",
    "amount = df.values\n",
    "\n",
    "plt.pie(amount,labels = industry,autopct='%0.2f',counterclock=False,startangle=100)\n",
    "plt.show()\n",
    "percent = np.true_divide(amount,amount.sum())*100\n",
    "for i in range(len(industry)):\n",
    "    print(industry[i],format(percent[i],'0.2f'))"
   ]
  },
  {
   "cell_type": "markdown",
   "id": "6a979e69",
   "metadata": {},
   "source": [
    "### Top startups "
   ]
  },
  {
   "cell_type": "code",
   "execution_count": null,
   "id": "4b3dc753",
   "metadata": {},
   "outputs": [],
   "source": [
    "import pandas as pd\n",
    "import numpy as np\n",
    "import matplotlib.pyplot as plt\n",
    "\n",
    "df = pd.read_csv('startup_funding.csv',encoding = 'utf-8')\n",
    "df['IndustryVertical'].replace('ECommerce','Ecommerce',inplace = True)\n",
    "df['IndustryVertical'].replace('eCommerce','Ecommerce',inplace = True)\n",
    "df['IndustryVertical'].replace('ecommerce','Ecommerce',inplace = True)\n",
    "df['AmountInUSD'] = df['AmountInUSD'].apply(lambda x: float(str(x).replace(\",\",\"\")))\n",
    "df = df.groupby('IndustryVertical')['AmountInUSD'].sum()\n",
    "df = df.sort_values(ascending = False)[:5]\n",
    "industry = df.index\n",
    "amount = df.values\n",
    "\n",
    "plt.pie(amount,labels = industry,autopct='%0.2f',counterclock=False,startangle=100)\n",
    "plt.show()\n",
    "percent = np.true_divide(amount,amount.sum())*100\n",
    "for i in range(len(industry)):\n",
    "    print(industry[i],format(percent[i],'0.2f'))"
   ]
  },
  {
   "cell_type": "markdown",
   "id": "9cdfd6cb",
   "metadata": {},
   "source": [
    "### Funding rounds"
   ]
  },
  {
   "cell_type": "code",
   "execution_count": null,
   "id": "b17f3d52",
   "metadata": {},
   "outputs": [],
   "source": [
    "import pandas as pd\n",
    "import numpy as np\n",
    "import collections\n",
    "\n",
    "df = pd.read_csv('startup_funding.csv',encoding = 'utf-8')\n",
    "df.InvestorsName.fillna(\"\",inplace = True)\n",
    "investors = df.InvestorsName\n",
    "\n",
    "investors_name = []\n",
    "for i in investors:\n",
    "    if i != \"\":\n",
    "        temp = i.split(\",\")\n",
    "        for j in temp:\n",
    "            investors_name.append(j.strip())\n",
    "dct = {}\n",
    "for i in investors_name:\n",
    "    dct[i] = dct.get(i,0) + 1\n",
    "for i in dct:\n",
    "    print(max(1))"
   ]
  },
  {
   "cell_type": "markdown",
   "id": "b8f51345",
   "metadata": {},
   "source": [
    "### Top Investor"
   ]
  },
  {
   "cell_type": "code",
   "execution_count": null,
   "id": "3326f5f1",
   "metadata": {},
   "outputs": [],
   "source": [
    "import pandas as pd\n",
    "import numpy as np\n",
    "\n",
    "df = pd.read_csv('startup_funding.csv',encoding = 'utf-8')\n",
    "df['InvestorsName'].dropna(inplace = True)\n",
    "\n",
    "def createDict(array):\n",
    "    dictionary = {}\n",
    "    for i in array:\n",
    "        if ',' not in i:\n",
    "            if i in dictionary:\n",
    "                dictionary[i] = dictionary.get(i)+1\n",
    "                \n",
    "            else:\n",
    "                dictionary[i] = 1\n",
    "        else:\n",
    "            string = i.strip().split(',')\n",
    "            for j in string:\n",
    "                if j.strip() in dictionary:\n",
    "                    dictionary[j.strip()] = dictionary.get(j.strip()) +1\n",
    "                else:\n",
    "                    dictionary[j.strip()] = 1\n",
    "    return dictionary\n",
    "\n",
    "dictionary = createDict(df['InvestorsName'])\n",
    "dataf = pd.DataFrame(list(dictionary.values()),list(dictionary.keys()))\n",
    "dataf = dataf.sort_values(by = [0], ascending = False)\n",
    "print(dataf.index[0],dataf.values[0][0])"
   ]
  }
 ],
 "metadata": {
  "kernelspec": {
   "display_name": "Python 3 (ipykernel)",
   "language": "python",
   "name": "python3"
  },
  "language_info": {
   "codemirror_mode": {
    "name": "ipython",
    "version": 3
   },
   "file_extension": ".py",
   "mimetype": "text/x-python",
   "name": "python",
   "nbconvert_exporter": "python",
   "pygments_lexer": "ipython3",
   "version": "3.10.6"
  }
 },
 "nbformat": 4,
 "nbformat_minor": 5
}
